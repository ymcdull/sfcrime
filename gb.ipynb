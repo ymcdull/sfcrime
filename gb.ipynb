{
 "cells": [
  {
   "cell_type": "code",
   "execution_count": 7,
   "metadata": {
    "collapsed": false
   },
   "outputs": [],
   "source": [
    "import numpy as np # linear algebra\n",
    "import pandas as pd # data processing, CSV file I/O (e.g. pd.read_csv)\n",
    "import gzip\n",
    "from sklearn.decomposition import PCA"
   ]
  },
  {
   "cell_type": "code",
   "execution_count": 8,
   "metadata": {
    "collapsed": false
   },
   "outputs": [],
   "source": [
    "train = pd.read_csv(\"train.csv\")\n",
    "test = pd.read_csv(\"test.csv\")"
   ]
  },
  {
   "cell_type": "code",
   "execution_count": 9,
   "metadata": {
    "collapsed": false
   },
   "outputs": [],
   "source": [
    "from sklearn.preprocessing import LabelEncoder\n",
    "le = LabelEncoder().fit(train.PdDistrict)"
   ]
  },
  {
   "cell_type": "code",
   "execution_count": 10,
   "metadata": {
    "collapsed": true
   },
   "outputs": [],
   "source": [
    "### Address subfix \n",
    "addr_short_list = train.Address.apply(lambda x: x.rsplit(' ', 1)[1]).value_counts()[:12].keys()\n",
    "addr_length = len(addr_short_list)\n",
    "def addr_transfer(addr):\n",
    "    for index, elem in enumerate(addr_short_list):\n",
    "        if addr.endswith(elem):\n",
    "            return index\n",
    "    return addr_length"
   ]
  },
  {
   "cell_type": "code",
   "execution_count": 11,
   "metadata": {
    "collapsed": true
   },
   "outputs": [],
   "source": [
    "### This is function to load data for train and test\n",
    "def loadData(df, test = None):\n",
    "    \n",
    "    dt = pd.to_datetime(df.Dates).dt\n",
    "    df[\"Year\"] = dt.year\n",
    "    df[\"Month\"] = dt.month\n",
    "    df[\"Day\"] = dt.day\n",
    "    df[\"Hour\"] = dt.hour\n",
    "    df[\"Minute\"] = dt.minute\n",
    "    df[\"MinuteAbs\"] = abs(dt.minute - 30)\n",
    "    df['Time'] = dt.hour * 60 + dt.minute\n",
    "    \n",
    "    df[\"Week\"] = dt.week\n",
    "    df.drop(\"Dates\", axis = 1, inplace = True)\n",
    "    \n",
    "    df[\"AddressIsOf\"]= df.Address.str.contains('.?of.?')\n",
    "    df[\"AddressShort\"] = df[\"Address\"].apply(addr_transfer)\n",
    "    df.drop(\"Address\", axis = 1, inplace = True)\n",
    "    \n",
    "    df[\"PdDistrict\"] = le.transform(df.PdDistrict)\n",
    "    \n",
    "    dow = {\n",
    "        \"Monday\": 0,\n",
    "        \"Tuesday\": 1,\n",
    "        \"Wednesday\": 2,\n",
    "        \"Thursday\": 3,\n",
    "        \"Friday\": 4,\n",
    "        \"Saturday\": 5,\n",
    "        \"Sunday\": 6\n",
    "    }\n",
    "    \n",
    "    df[\"DayOfWeek\"] = df.DayOfWeek.map(dow)\n",
    "    \n",
    "    pca = PCA(n_components=2)\n",
    "    res = pca.fit_transform(df[[\"X\", \"Y\"]])\n",
    "    df[\"X\"] = pd.Series(res[:, 0])\n",
    "    df[\"Y\"] = pd.Series(res[:, 1])\n",
    "    \n",
    "    if test:\n",
    "        df.drop(\"Id\", axis = 1, inplace = True)\n",
    "        y = None\n",
    "    else:\n",
    "        df.drop(\"Descript\", axis = 1, inplace = True)\n",
    "        df.drop(\"Resolution\", axis = 1, inplace = True)\n",
    "        y = df.Category\n",
    "        df.drop(\"Category\", axis = 1, inplace = True)\n",
    "        \n",
    "    X = df\n",
    "    \n",
    "    return X, y\n"
   ]
  },
  {
   "cell_type": "code",
   "execution_count": 12,
   "metadata": {
    "collapsed": false
   },
   "outputs": [],
   "source": [
    "### Read in data to DataFrame\n",
    "X, y = loadData(train)"
   ]
  },
  {
   "cell_type": "code",
   "execution_count": 13,
   "metadata": {
    "collapsed": false
   },
   "outputs": [
    {
     "data": {
      "text/html": [
       "<div>\n",
       "<table border=\"1\" class=\"dataframe\">\n",
       "  <thead>\n",
       "    <tr style=\"text-align: right;\">\n",
       "      <th></th>\n",
       "      <th>DayOfWeek</th>\n",
       "      <th>PdDistrict</th>\n",
       "      <th>X</th>\n",
       "      <th>Y</th>\n",
       "      <th>Year</th>\n",
       "      <th>Month</th>\n",
       "      <th>Day</th>\n",
       "      <th>Hour</th>\n",
       "      <th>Minute</th>\n",
       "      <th>MinuteAbs</th>\n",
       "      <th>Time</th>\n",
       "      <th>Week</th>\n",
       "      <th>AddressIsOf</th>\n",
       "      <th>AddressShort</th>\n",
       "    </tr>\n",
       "  </thead>\n",
       "  <tbody>\n",
       "    <tr>\n",
       "      <th>0</th>\n",
       "      <td>2</td>\n",
       "      <td>4</td>\n",
       "      <td>-0.003454</td>\n",
       "      <td>0.003406</td>\n",
       "      <td>2015</td>\n",
       "      <td>5</td>\n",
       "      <td>13</td>\n",
       "      <td>23</td>\n",
       "      <td>53</td>\n",
       "      <td>23</td>\n",
       "      <td>1433</td>\n",
       "      <td>20</td>\n",
       "      <td>False</td>\n",
       "      <td>0</td>\n",
       "    </tr>\n",
       "    <tr>\n",
       "      <th>1</th>\n",
       "      <td>2</td>\n",
       "      <td>4</td>\n",
       "      <td>-0.003454</td>\n",
       "      <td>0.003406</td>\n",
       "      <td>2015</td>\n",
       "      <td>5</td>\n",
       "      <td>13</td>\n",
       "      <td>23</td>\n",
       "      <td>53</td>\n",
       "      <td>23</td>\n",
       "      <td>1433</td>\n",
       "      <td>20</td>\n",
       "      <td>False</td>\n",
       "      <td>0</td>\n",
       "    </tr>\n",
       "    <tr>\n",
       "      <th>2</th>\n",
       "      <td>2</td>\n",
       "      <td>4</td>\n",
       "      <td>-0.029309</td>\n",
       "      <td>0.002840</td>\n",
       "      <td>2015</td>\n",
       "      <td>5</td>\n",
       "      <td>13</td>\n",
       "      <td>23</td>\n",
       "      <td>33</td>\n",
       "      <td>3</td>\n",
       "      <td>1413</td>\n",
       "      <td>20</td>\n",
       "      <td>False</td>\n",
       "      <td>0</td>\n",
       "    </tr>\n",
       "    <tr>\n",
       "      <th>3</th>\n",
       "      <td>2</td>\n",
       "      <td>4</td>\n",
       "      <td>-0.029669</td>\n",
       "      <td>0.005488</td>\n",
       "      <td>2015</td>\n",
       "      <td>5</td>\n",
       "      <td>13</td>\n",
       "      <td>23</td>\n",
       "      <td>30</td>\n",
       "      <td>0</td>\n",
       "      <td>1410</td>\n",
       "      <td>20</td>\n",
       "      <td>True</td>\n",
       "      <td>0</td>\n",
       "    </tr>\n",
       "    <tr>\n",
       "      <th>4</th>\n",
       "      <td>2</td>\n",
       "      <td>5</td>\n",
       "      <td>0.000080</td>\n",
       "      <td>0.016129</td>\n",
       "      <td>2015</td>\n",
       "      <td>5</td>\n",
       "      <td>13</td>\n",
       "      <td>23</td>\n",
       "      <td>30</td>\n",
       "      <td>0</td>\n",
       "      <td>1410</td>\n",
       "      <td>20</td>\n",
       "      <td>True</td>\n",
       "      <td>0</td>\n",
       "    </tr>\n",
       "  </tbody>\n",
       "</table>\n",
       "</div>"
      ],
      "text/plain": [
       "   DayOfWeek  PdDistrict         X         Y  Year  Month  Day  Hour  Minute  \\\n",
       "0          2           4 -0.003454  0.003406  2015      5   13    23      53   \n",
       "1          2           4 -0.003454  0.003406  2015      5   13    23      53   \n",
       "2          2           4 -0.029309  0.002840  2015      5   13    23      33   \n",
       "3          2           4 -0.029669  0.005488  2015      5   13    23      30   \n",
       "4          2           5  0.000080  0.016129  2015      5   13    23      30   \n",
       "\n",
       "   MinuteAbs  Time  Week AddressIsOf  AddressShort  \n",
       "0         23  1433    20       False             0  \n",
       "1         23  1433    20       False             0  \n",
       "2          3  1413    20       False             0  \n",
       "3          0  1410    20        True             0  \n",
       "4          0  1410    20        True             0  "
      ]
     },
     "execution_count": 13,
     "metadata": {},
     "output_type": "execute_result"
    }
   ],
   "source": [
    "### Validation \n",
    "# from sklearn.cross_validation import train_test_split\n",
    "# from sklearn.ensemble import GradientBoostingClassifier\n",
    "# from sklearn.metrics import log_loss\n",
    "\n",
    "# X_train, X_test, y_train, y_test = train_test_split(X, Y, test_size=0.33, random_state=42)\n",
    "X.head()"
   ]
  },
  {
   "cell_type": "code",
   "execution_count": null,
   "metadata": {
    "collapsed": false
   },
   "outputs": [],
   "source": [
    "### Validation for xgboost\n",
    "from sklearn.cross_validation import train_test_split\n",
    "from sklearn.ensemble import GradientBoostingClassifier\n",
    "from sklearn.metrics import log_loss\n",
    "import xgboost as xgb\n",
    "\n",
    "X_train, X_test, y_train, y_test = train_test_split(X, y, test_size=0.7, random_state=42)\n",
    "\n",
    "#gbm = xgb.XGBClassifier(max_depth=3, n_estimators=300, learning_rate=0.05).fit(X_train, y_train)\n",
    "gbm = xgb.XGBClassifier(objective=\"multi:softprob\", max_depth=3).fit(X_train, y_train)"
   ]
  },
  {
   "cell_type": "code",
   "execution_count": 15,
   "metadata": {
    "collapsed": false
   },
   "outputs": [
    {
     "name": "stdout",
     "output_type": "stream",
     "text": [
      "2.37308204638\n"
     ]
    }
   ],
   "source": [
    "#preds = gbm.predict(X_test)\n",
    "preds = gbm.predict_proba(X_test)\n",
    "print(log_loss(y_test, preds))"
   ]
  },
  {
   "cell_type": "code",
   "execution_count": null,
   "metadata": {
    "collapsed": true
   },
   "outputs": [],
   "source": [
    "preds = gbm.predict_proba(X_test)\n",
    "print(log_loss(y_test, preds))"
   ]
  },
  {
   "cell_type": "code",
   "execution_count": null,
   "metadata": {
    "collapsed": true
   },
   "outputs": [],
   "source": [
    "submission = pd.DataFrame(preds, columns = rf.classes_)\n",
    "submission.to_csv(gzip.open('sub.csv.gz', 'wt'), index = True, index_label = 'Id')"
   ]
  },
  {
   "cell_type": "code",
   "execution_count": null,
   "metadata": {
    "collapsed": true
   },
   "outputs": [],
   "source": [
    "### backup code  \n",
    "#     data = pd.DataFrame(index = range(len(df)))\n",
    "    \n",
    "#     ### Seems no improvement with features chosen from 'Address'\n",
    "#     #addr_feats = [\"Addr#\" + str(i) for i in range(10)]\n",
    "#     #data = df.get(['X','Y'] + addr_feats)\n",
    "#     data = df.get(['X','Y'])\n",
    "    \n",
    "#     ### Dates\n",
    "#     date_time = pd.to_datetime(df.Dates)\n",
    "#     data['Year'] = date_time.dt.year\n",
    "#     data['Month'] = date_time.dt.month\n",
    "#     data['Day'] = date_time.dt.day\n",
    "#     data['Hour'] = date_time.dt.hour\n",
    "#     data['Time'] = data['Hour'] * 60 + date_time.dt.minute\n",
    "\n",
    "#     ### District to discrete values\n",
    "#     district_counts = df.PdDistrict.value_counts()\n",
    "#     district_counts.sort()\n",
    "#     keylist = district_counts.keys()\n",
    "#     dict = {}\n",
    "#     for i in range(len(keylist)):\n",
    "#         dict[keylist[i]] = i\n",
    "#     data['District'] = df.PdDistrict.map(dict)\n",
    "\n",
    "#     ### Weekdays\n",
    "#     district_counts = df.DayOfWeek.value_counts()\n",
    "#     district_counts.sort()\n",
    "#     keylist = district_counts.keys()\n",
    "#     dict = {}\n",
    "#     for i in range(len(keylist)):\n",
    "#         dict[keylist[i]] = i\n",
    "#     data['DayOfWeek'] = df.DayOfWeek.map(dict)\n",
    "    \n",
    "#     X = data.values\n",
    "#     Y = None\n",
    "#     if \"Category\" in df.columns:\n",
    "#         Y = df.Category.values\n",
    "        \n",
    "#     return X, Y\n"
   ]
  }
 ],
 "metadata": {
  "kernelspec": {
   "display_name": "Python 2",
   "language": "python",
   "name": "python2"
  },
  "language_info": {
   "codemirror_mode": {
    "name": "ipython",
    "version": 2
   },
   "file_extension": ".py",
   "mimetype": "text/x-python",
   "name": "python",
   "nbconvert_exporter": "python",
   "pygments_lexer": "ipython2",
   "version": "2.7.6"
  }
 },
 "nbformat": 4,
 "nbformat_minor": 0
}
